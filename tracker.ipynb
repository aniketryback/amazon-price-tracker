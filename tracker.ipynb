{
 "cells": [
  {
   "cell_type": "code",
   "execution_count": 16,
   "id": "ce8d0a8f",
   "metadata": {},
   "outputs": [],
   "source": [
    "\n",
    "import pandas as pd\n",
    "import matplotlib.pyplot as plt\n",
    "import os\n",
    "import \trequests\n",
    "from bs4 import BeautifulSoup\n",
    "from datetime import datetime"
   ]
  },
  {
   "cell_type": "code",
   "execution_count": 17,
   "id": "1508a062",
   "metadata": {},
   "outputs": [],
   "source": [
    "url = \"https://www.amazon.in/ref=PS5BAU25QCPS5digital/dp/B0CY5QW186/?_encoding=UTF8&pd_rd_w=M2bYC&content-id=amzn1.sym.3b2d0011-a8ec-4315-a031-cca3c26cfcd6&pf_rd_p=3b2d0011-a8ec-4315-a031-cca3c26cfcd6&pf_rd_r=NRVNG717792V8GJ5F5S4&pd_rd_wg=rO1kJ&pd_rd_r=e0e34376-971e-4677-a367-84691a7713e0&ref_=pd_hp_d_atf_unk\""
   ]
  },
  {
   "cell_type": "code",
   "execution_count": 18,
   "id": "fd199f64",
   "metadata": {},
   "outputs": [],
   "source": [
    "##Fetching the Data\n",
    "def fetch_price():\n",
    "    response = requests.get(url)\n",
    "\n",
    "    soup = BeautifulSoup(response.content, 'lxml')\n",
    "\n",
    "    title = soup.find(id = \"productTitle\")\n",
    "    price = soup.find(\"span\", class_=\"a-price-whole\")\n",
    "\n",
    "    if not title or not price:\n",
    "        raise Exception(\"Price or Title not found, Amazon may have blocked you\")\n",
    "    \n",
    "    title_text = title.get_text(strip=True)\n",
    "    price_text = price.get_text(strip=True).replace(\",\", \"\")\n",
    "\n",
    "    return{\n",
    "        \"title\" : title_text,\n",
    "        \"price\" : float(price_text),\n",
    "        \"timestamp\" : datetime.now().strftime(\"%Y-%m-%d %H:%M:%S\")\n",
    "    }\n",
    "    print(\"✅ Data Successfully Fetched\")"
   ]
  },
  {
   "cell_type": "code",
   "execution_count": 19,
   "id": "e81a1913",
   "metadata": {},
   "outputs": [],
   "source": [
    "#Saving the output\n",
    "\n",
    "def append_to_csv(record, filename = \"price_tracker.csv\"):\n",
    "\n",
    "    df = pd.DataFrame([record])\n",
    "\n",
    "    if not os.path.exists(filename):\n",
    "        df.to_csv(filename, index = False)\n",
    "    else:\n",
    "        df.to_csv(filename, mode=\"a\", header=False, index=False)\n",
    "    print(\"✅ Data Saved to CSV Format\")"
   ]
  },
  {
   "cell_type": "code",
   "execution_count": 20,
   "id": "eb3ffd7e",
   "metadata": {},
   "outputs": [],
   "source": [
    "#Plotting the Data\n",
    "\n",
    "def plot_price(filename = \"price_tracker.csv\"):\n",
    "\n",
    "    df = pd.read_csv(filename)\n",
    "    df['timestamp'] = pd.to_datetime(df['timestamp'])\n",
    "\n",
    "    last_10 = df.tail(10)\n",
    "\n",
    "    plt.figure(figsize = (10,5))\n",
    "    plt.plot(last_10['timestamp'],last_10['price'], color ='green', linestyle = '-', marker = 'o')\n",
    "    plt.xlabel(\"Timestamp\")\n",
    "    plt.ylabel(\"Price\")\n",
    "    plt.title(\"Price over the time\")\n",
    "    plt.xticks(rotation = 45)\n",
    "\n",
    "\n",
    "    os.makedirs(\"output\", exist_ok= True)\n",
    "    plt.savefig(\"output/price_trend.png\")\n",
    "    print(\"✅ Price trend chart saved to output/\")"
   ]
  },
  {
   "cell_type": "code",
   "execution_count": 21,
   "id": "c4194cc6",
   "metadata": {},
   "outputs": [
    {
     "name": "stdout",
     "output_type": "stream",
     "text": [
      "Price or Title not found, Amazon may have blocked you\n"
     ]
    }
   ],
   "source": [
    "if __name__ == \"__main__\" :\n",
    "    try:\n",
    "        record = fetch_price()\n",
    "        print(f\"🛒 {record['title']}\")\n",
    "        print(f\"₹ {record['price']}\")\n",
    "        append_to_csv(record)\n",
    "        plot_price()\n",
    "    except Exception as e:\n",
    "        print(str(e))"
   ]
  }
 ],
 "metadata": {
  "kernelspec": {
   "display_name": "Python 3",
   "language": "python",
   "name": "python3"
  },
  "language_info": {
   "codemirror_mode": {
    "name": "ipython",
    "version": 3
   },
   "file_extension": ".py",
   "mimetype": "text/x-python",
   "name": "python",
   "nbconvert_exporter": "python",
   "pygments_lexer": "ipython3",
   "version": "3.13.5"
  }
 },
 "nbformat": 4,
 "nbformat_minor": 5
}
